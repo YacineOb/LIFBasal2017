{
 "cells": [
  {
   "cell_type": "markdown",
   "metadata": {},
   "source": [
    "# - Import modules -"
   ]
  },
  {
   "cell_type": "code",
   "execution_count": 1,
   "metadata": {
    "collapsed": false,
    "deletable": true,
    "editable": true
   },
   "outputs": [],
   "source": [
    "import os\n",
    "import time\n",
    "import numpy as np\n",
    "import random\n",
    "from matplotlib import pyplot as plt\n",
    "from math import exp, cos\n",
    "import json\n",
    "from tqdm import tqdm\n",
    "import matplotlib.cm as cm\n",
    "import scipy.stats as stats\n",
    "import matplotlib\n",
    "matplotlib.rc('xtick', labelsize=20) \n",
    "matplotlib.rc('ytick', labelsize=20)\n",
    "plt.rcParams[\"axes.labelweight\"] = \"bold\""
   ]
  },
  {
   "cell_type": "markdown",
   "metadata": {},
   "source": [
    "# - Define functions -"
   ]
  },
  {
   "cell_type": "code",
   "execution_count": 2,
   "metadata": {
    "collapsed": true
   },
   "outputs": [],
   "source": [
    "## will create the files needed to store values in CWD/Data\n",
    "def data_dir(dir=\"os.getcwd()\"):            \n",
    "    if not os.path.exists('{}/{}'.format(os.getcwd(),'DataLIF')): # used to tag simulation results\n",
    "        directory = os.path.dirname(dir)\n",
    "        os.makedirs('{}/{}'.format(os.getcwd(),'DataLIF'))\n",
    "    if not os.path.exists('DataLIF/{}'.format(timestr)):\n",
    "        os.makedirs('DataLIF/{}'.format(timestr))"
   ]
  },
  {
   "cell_type": "code",
   "execution_count": 3,
   "metadata": {
    "collapsed": true
   },
   "outputs": [],
   "source": [
    "## function to get the index \"-delay/dt\" in the list representing m(t-Delta)\n",
    "def mdelta(synapse_value, delay, t, dt,i):\n",
    "    if t < delay:  # if the delay is the time is too small, we take m(t-delta)=0\n",
    "        return 0\n",
    "    else:  # if the time is above or equal to the delay, we can find the m(t-delta)\n",
    "        return synapse_value[int(-delay / dt)][i]"
   ]
  },
  {
   "cell_type": "markdown",
   "metadata": {},
   "source": [
    "# - LIF parameters -"
   ]
  },
  {
   "cell_type": "code",
   "execution_count": 4,
   "metadata": {
    "collapsed": false,
    "deletable": true,
    "editable": true
   },
   "outputs": [],
   "source": [
    "## setup parameters and state variables\n",
    "duration       = 1000                  # total time (msec)\n",
    "dt      = 0.100                      # time step (msec)\n",
    "time    = np.arange(0, duration+dt, dt) # time array\n",
    "t_rest  = 1                          # initial refractory time"
   ]
  },
  {
   "cell_type": "code",
   "execution_count": 5,
   "metadata": {
    "collapsed": false,
    "deletable": true,
    "editable": true
   },
   "outputs": [],
   "source": [
    "## LIF properties\n",
    "Vm      = np.zeros(len(time))-67    # potential (V) trace over time \n",
    "Rm      = 200000                   # resistance (kOhm)\n",
    "#Cm      = 20                  # capacitance (uF)\n",
    "tau_m   = 20 #Rm*Cm               # time constant (msec)\n",
    "tau_ref = 1                   # refractory period (msec)\n",
    "Vth     = -42                   # spike threshold (V)\n",
    "V_spike = 100                 # spike delta (V)"
   ]
  },
  {
   "cell_type": "code",
   "execution_count": 6,
   "metadata": {
    "collapsed": true,
    "deletable": true,
    "editable": true
   },
   "outputs": [],
   "source": [
    "## First Input stimulus\n",
    "minI = 0.0      # beggining time (ms)\n",
    "maxI = 100.0     # End input (ms)\n",
    "Input = 0.0   # input current (A)"
   ]
  },
  {
   "cell_type": "code",
   "execution_count": 7,
   "metadata": {
    "collapsed": true,
    "deletable": true,
    "editable": true
   },
   "outputs": [],
   "source": [
    "## Second Input stimulus\n",
    "minI2 = 500.0      # beggining time (ms)\n",
    "maxI2 = 600.0     # End input (ms)\n",
    "Input2 = 0.0   # input current (A)"
   ]
  },
  {
   "cell_type": "code",
   "execution_count": 8,
   "metadata": {
    "collapsed": false,
    "deletable": true,
    "editable": true
   },
   "outputs": [],
   "source": [
    "## Set Input for each step\n",
    "Il = np.zeros(len(time))\n",
    "#Il = np.random.normal(10,5,len(time)) # for random/noisy inputs\n",
    "\n",
    "Il[int(minI/dt):int(maxI/dt)] = Input\n",
    "Il[int(minI2/dt):int(maxI2/dt)] = Input2"
   ]
  },
  {
   "cell_type": "code",
   "execution_count": 9,
   "metadata": {
    "collapsed": true,
    "deletable": true,
    "editable": true
   },
   "outputs": [],
   "source": [
    "## Set noise\n",
    "N = 0.5"
   ]
  },
  {
   "cell_type": "code",
   "execution_count": 10,
   "metadata": {
    "collapsed": true,
    "deletable": true,
    "editable": true
   },
   "outputs": [],
   "source": [
    "H = 0.05"
   ]
  },
  {
   "cell_type": "code",
   "execution_count": 11,
   "metadata": {
    "collapsed": true
   },
   "outputs": [],
   "source": [
    "time_value = np.arange(0, duration, dt) # creat the timescale, depending on the duration and step dt, for plotting"
   ]
  },
  {
   "cell_type": "markdown",
   "metadata": {},
   "source": [
    "# - initial parameters - "
   ]
  },
  {
   "cell_type": "code",
   "execution_count": 12,
   "metadata": {
    "collapsed": true
   },
   "outputs": [],
   "source": [
    "## Total time duration (ms)\n",
    "duration = 1000   \n",
    "\n",
    "## Default Time resolution (ms)\n",
    "dt = 0.1\n",
    "\n",
    "## Period occuring \n",
    "n_period = int(duration / dt) + 1"
   ]
  },
  {
   "cell_type": "code",
   "execution_count": null,
   "metadata": {
    "collapsed": true
   },
   "outputs": [],
   "source": [
    "## Initialization of the random generator (reproductibility)\n",
    "w=np.random.randint(1,10)\n",
    "np.random.seed(w)"
   ]
  },
  {
   "cell_type": "code",
   "execution_count": 13,
   "metadata": {
    "collapsed": true
   },
   "outputs": [],
   "source": [
    " ## Weights (connextions pre->post ; notation: PostPre):\n",
    "J = 1\n",
    "\n",
    " ## Tau:\n",
    "tau_m = 20 #(ms)\n",
    "\n",
    " ## Delays:\n",
    "D = 1 #(ms)"
   ]
  },
  {
   "cell_type": "code",
   "execution_count": 14,
   "metadata": {
    "collapsed": true
   },
   "outputs": [],
   "source": [
    "T = dict()"
   ]
  },
  {
   "cell_type": "code",
   "execution_count": 15,
   "metadata": {
    "collapsed": false
   },
   "outputs": [
    {
     "ename": "NameError",
     "evalue": "name 'structures' is not defined",
     "output_type": "error",
     "traceback": [
      "\u001b[0;31m---------------------------------------------------------------------------\u001b[0m",
      "\u001b[0;31mNameError\u001b[0m                                 Traceback (most recent call last)",
      "\u001b[0;32m<ipython-input-15-9f2b7f7ad5c0>\u001b[0m in \u001b[0;36m<module>\u001b[0;34m()\u001b[0m\n\u001b[1;32m      1\u001b[0m \u001b[0;31m## inputs array generation: noises picked (N=sigma)\u001b[0m\u001b[0;34m\u001b[0m\u001b[0;34m\u001b[0m\u001b[0m\n\u001b[0;32m----> 2\u001b[0;31m \u001b[0;32mfor\u001b[0m \u001b[0mstc\u001b[0m \u001b[0;32min\u001b[0m \u001b[0mstructures\u001b[0m\u001b[0;34m:\u001b[0m\u001b[0;34m\u001b[0m\u001b[0m\n\u001b[0m\u001b[1;32m      3\u001b[0m \u001b[0;34m\u001b[0m\u001b[0m\n\u001b[1;32m      4\u001b[0m     \u001b[0mT\u001b[0m\u001b[0;34m[\u001b[0m\u001b[0mstc\u001b[0m\u001b[0;34m]\u001b[0m \u001b[0;34m=\u001b[0m \u001b[0mnp\u001b[0m\u001b[0;34m.\u001b[0m\u001b[0mrandom\u001b[0m\u001b[0;34m.\u001b[0m\u001b[0mnormal\u001b[0m\u001b[0;34m(\u001b[0m\u001b[0;36m0\u001b[0m\u001b[0;34m,\u001b[0m \u001b[0mTN\u001b[0m\u001b[0;34m[\u001b[0m\u001b[0mstc\u001b[0m\u001b[0;34m]\u001b[0m \u001b[0;34m,\u001b[0m \u001b[0msize\u001b[0m\u001b[0;34m=\u001b[0m\u001b[0mn\u001b[0m\u001b[0;34m)\u001b[0m\u001b[0;34m\u001b[0m\u001b[0m\n\u001b[1;32m      5\u001b[0m \u001b[0;34m\u001b[0m\u001b[0m\n",
      "\u001b[0;31mNameError\u001b[0m: name 'structures' is not defined"
     ]
    }
   ],
   "source": [
    "## inputs array generation: noises picked (N=sigma)\n",
    "for stc in structures:\n",
    "    \n",
    "    T[stc] = np.random.normal(0, TN[stc] , size=n)\n",
    "    \n",
    "    I[stc] = np.random.normal(0, N[stc], size=(n_period, n)) + H[stc] + T[stc]"
   ]
  },
  {
   "cell_type": "markdown",
   "metadata": {},
   "source": [
    "# - Simulation Core -"
   ]
  },
  {
   "cell_type": "code",
   "execution_count": null,
   "metadata": {
    "collapsed": false,
    "deletable": true,
    "editable": true
   },
   "outputs": [],
   "source": [
    "## iterate over each time step\n",
    "it=0\n",
    "nspike=np.zeros(int(duration/dt)+1)\n",
    "for i, t in enumerate(time):\n",
    "    \n",
    "    if t > t_rest:\n",
    "        Vm[i] = Vm[i-1] + Il[it]*Rm / tau_m * dt + Il[it]*Rm / tau_m * dt**2 + np.random.normal(0, N)\n",
    "        if Vm[i]>=Vth:\n",
    "            nspike[it] = 1\n",
    "            #print('spike!',t)\n",
    "    \n",
    "    if Vm[i] >= Vth:\n",
    "        Vm[i] += V_spike\n",
    "        t_rest = t + tau_ref\n",
    "    \n",
    "    \n",
    "\n",
    "    \n",
    "    \n",
    "    \n",
    "    \n",
    "    \n",
    "    \n",
    "    \n",
    "    it+=1"
   ]
  },
  {
   "cell_type": "code",
   "execution_count": null,
   "metadata": {
    "collapsed": true
   },
   "outputs": [],
   "source": [
    "for t in tqdm(range(1, n_period)):    ## Update of Inputs\n",
    "    \n",
    "    for stc in structures:\n",
    "        \n",
    "        for i in range(n):\n",
    "            \n",
    "            con = input_mapping[stc] #multiplication by the probability of connexion below with n\n",
    "            \n",
    "            I[stc][t][i] += - np.sum(\n",
    "                G[con]* mdelta(m[con][:t + 1], D[con], time_value[t], dt,i) *J[con][i]\n",
    "                )/(np.sum(J[con][i]))  \n",
    "\n",
    "                \n",
    "    for con in connections:          ## Update of activities\n",
    "        \n",
    "        for i in range(n):\n",
    "            \n",
    "            stc = activities_mapping[con]\n",
    "            \n",
    "            dm[con][t][i] = dt * (- m[con][t][i] + Ic(I[stc][t][i])) / tau[con]\n",
    "            \n",
    "        if t < n_period-1: # we can't add last value of dm to the last value of m\n",
    "            \n",
    "            m[con][t+1]=m[con][t]+dm[con][t]\n",
    "            \n",
    "        else:\n",
    "            \n",
    "            continue"
   ]
  },
  {
   "cell_type": "markdown",
   "metadata": {},
   "source": [
    "# - Firing rate calculation (window) - "
   ]
  },
  {
   "cell_type": "code",
   "execution_count": null,
   "metadata": {
    "collapsed": false,
    "deletable": true,
    "editable": true
   },
   "outputs": [],
   "source": [
    "## rate calculation\n",
    "ratio=np.zeros(len(nspike))\n",
    "for x in enumerate(nspike):\n",
    "    #print(x)\n",
    "    if x[0] <= 10 :\n",
    "        y = np.sum(nspike[:5])/5\n",
    "        #print(y)\n",
    "    elif x[0] > 10 :\n",
    "        y = np.sum(nspike[x[0]:x[0]+500])/1000\n",
    "    ratio[x[0]]=y"
   ]
  },
  {
   "cell_type": "markdown",
   "metadata": {},
   "source": [
    "# - Savedata - "
   ]
  },
  {
   "cell_type": "code",
   "execution_count": null,
   "metadata": {
    "collapsed": true
   },
   "outputs": [],
   "source": [
    "timestr = time.strftime(\"%Y-%m-%d-%H:%M:%S\") # give the date and time used to tag simulation results\n",
    "data_dir()  # creating the 'Data' directory on CWD and the directory (with date & time) to store the results\n",
    "\n",
    "np.save('DataLIF/{}/{}_Inputs'.format(timestr, stc), I[stc]) # save the Input array (npy format) for each neuron population in \"structures\"\n",
    "    \n",
    "np.save('DataLIF/{}/{}_Activities'.format(timestr, con), m[con]) # save the Activity array (npy format) for each neuron population in \"connections\"\n",
    "\n",
    "datax={'Weight':G,'Delay':D,'tau':tau,'Noise':N,  # make one dict with all parameters used \n",
    "       'time_trial':t,'duration':duration,'step':dt}\n",
    "\n",
    "with open('DataLIF/{}/0_Parameters.json'.format(timestr),'w') as f: # save the parameters used during the simulation\n",
    "            json.dump(datax, f) "
   ]
  },
  {
   "cell_type": "markdown",
   "metadata": {},
   "source": [
    "# - Plotting- "
   ]
  },
  {
   "cell_type": "code",
   "execution_count": null,
   "metadata": {
    "collapsed": false,
    "deletable": true,
    "editable": true
   },
   "outputs": [],
   "source": [
    "## Membrane potential and Input trace\n",
    "fig = plt.figure(figsize=(15,10))\n",
    "\n",
    "ax1 = plt.subplot(311)\n",
    "ax1.set_ylim(0,2)\n",
    "ax1.spines['right'].set_visible(False)\n",
    "ax1.spines['top'].set_visible(False)\n",
    "ax1.set_ylabel('Input [A]',fontsize=15,fontweight='bold')\n",
    "plt.plot(time,Il,'b',linewidth=2)\n",
    "\n",
    "    # share x only\n",
    "ax2 = plt.subplot(312, sharex=ax1)\n",
    "ax2.set_ylabel('M.potential [V]',fontsize=15,fontweight='bold')\n",
    "ax2.set_xlabel('Time [ms]',fontsize=15,fontweight='bold')\n",
    "ax2.spines['right'].set_visible(False)\n",
    "ax2.spines['top'].set_visible(False)\n",
    "ax2.plot(time, Vm,'g',linewidth=2)\n",
    "ax2.plot((time[0], duration), (Vth, Vth), 'r',linestyle=':', dashes=(1, 5)) # put the treshold level\n",
    "plt.setp(ax1.get_xticklabels(), visible=False)\n",
    "\n",
    "# make these tick labels invisible\n",
    "plt.setp(ax1.get_xticklabels(), visible=False)\n",
    "\n",
    "#ax3 = plt.subplot(313, sharex=ax1)\n",
    "#ax3.set_ylim(2,5)\n",
    "#ax3.set_ylabel('Firing rate [Hz]',fontsize=15,fontweight='bold')\n",
    "#ax3.set_xlabel('Time [ms]',fontsize=15,fontweight='bold')\n",
    "#plt.plot(time, ratio,'r',linewidth=2)\n",
    "\n",
    "plt.autoscale(enable=True, axis='x', tight=True)\n",
    "plt.show()"
   ]
  }
 ],
 "metadata": {
  "kernelspec": {
   "display_name": "Python 3",
   "language": "python",
   "name": "python3"
  }
 },
 "nbformat": 4,
 "nbformat_minor": 2
}
