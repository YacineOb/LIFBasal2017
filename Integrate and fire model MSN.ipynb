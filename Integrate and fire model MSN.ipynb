{
 "cells": [
  {
   "cell_type": "code",
   "execution_count": 1,
   "metadata": {
    "collapsed": false,
    "deletable": true,
    "editable": true
   },
   "outputs": [],
   "source": [
    "import os\n",
    "import time\n",
    "import numpy as np\n",
    "import random\n",
    "from matplotlib import pyplot as plt\n",
    "from math import exp, cos\n",
    "import json\n",
    "from tqdm import tqdm\n",
    "import matplotlib\n",
    "matplotlib.rc('xtick', labelsize=20) \n",
    "matplotlib.rc('ytick', labelsize=20)\n",
    "plt.rcParams[\"axes.labelweight\"] = \"bold\""
   ]
  },
  {
   "cell_type": "code",
   "execution_count": 2,
   "metadata": {
    "collapsed": false,
    "deletable": true,
    "editable": true
   },
   "outputs": [],
   "source": [
    "## setup parameters and state variables\n",
    "duration       = 1000                  # total time (msec)\n",
    "dt      = 0.100                      # time step (msec)\n",
    "time    = np.arange(0, duration+dt, dt) # time array\n",
    "t_rest  = 1                          # initial refractory time"
   ]
  },
  {
   "cell_type": "code",
   "execution_count": 3,
   "metadata": {
    "collapsed": false,
    "deletable": true,
    "editable": true
   },
   "outputs": [],
   "source": [
    "## LIF properties\n",
    "Vm      = np.zeros(len(time))    # potential (V) trace over time \n",
    "Rm      = 1                   # resistance (kOhm)\n",
    "#Cm      = 20                  # capacitance (uF)\n",
    "tau_m   = 20 #Rm*Cm               # time constant (msec)\n",
    "tau_ref = 1                   # refractory period (msec)\n",
    "Vth     = 2                   # spike threshold (V)\n",
    "V_spike = 1                 # spike delta (V)"
   ]
  },
  {
   "cell_type": "code",
   "execution_count": 4,
   "metadata": {
    "collapsed": true,
    "deletable": true,
    "editable": true
   },
   "outputs": [],
   "source": [
    "## First Input stimulus\n",
    "minI = 0.0      # beggining time (ms)\n",
    "maxI = 100.0     # End input (ms)\n",
    "Input = 0.0   # input current (A)"
   ]
  },
  {
   "cell_type": "code",
   "execution_count": 5,
   "metadata": {
    "collapsed": true,
    "deletable": true,
    "editable": true
   },
   "outputs": [],
   "source": [
    "## Second Input stimulus\n",
    "minI2 = 500.0      # beggining time (ms)\n",
    "maxI2 = 600.0     # End input (ms)\n",
    "Input2 = 2.0   # input current (A)"
   ]
  },
  {
   "cell_type": "code",
   "execution_count": 6,
   "metadata": {
    "collapsed": false,
    "deletable": true,
    "editable": true
   },
   "outputs": [],
   "source": [
    "## Set Input for each step\n",
    "Il = np.zeros(len(time))\n",
    "#Il = np.random.normal(10,5,len(time)) # for random/noisy inputs\n",
    "\n",
    "Il[int(minI/dt):int(maxI/dt)] = Input\n",
    "Il[int(minI2/dt):int(maxI2/dt)] = Input2"
   ]
  },
  {
   "cell_type": "code",
   "execution_count": 7,
   "metadata": {
    "collapsed": true,
    "deletable": true,
    "editable": true
   },
   "outputs": [],
   "source": [
    "## Set noise\n",
    "N = 0.02"
   ]
  },
  {
   "cell_type": "code",
   "execution_count": null,
   "metadata": {
    "collapsed": true
   },
   "outputs": [],
   "source": [
    "H = 0.05"
   ]
  },
  {
   "cell_type": "code",
   "execution_count": 8,
   "metadata": {
    "collapsed": false,
    "deletable": true,
    "editable": true
   },
   "outputs": [],
   "source": [
    "## iterate over each time step\n",
    "it=0\n",
    "nspike=np.zeros(int(duration/dt)+1)\n",
    "for i, t in enumerate(time):\n",
    "    \n",
    "    if t > t_rest:\n",
    "        Vm[i] = Vm[i-1] + Il[it]*Rm / tau_m * dt + Il[it]*Rm / tau_m * dt**2 + np.random.normal(0, N)\n",
    "        if Vm[i]>=Vth:\n",
    "            nspike[it] = 1\n",
    "            #print('spike!',t)\n",
    "    \n",
    "    if Vm[i] >= Vth:\n",
    "        Vm[i] += V_spike\n",
    "        t_rest = t + tau_ref\n",
    "    \n",
    "    \n",
    "    #Il[i] += tau_m/(tau_d-tau_r) * () + H \n",
    "    \n",
    "    \n",
    "    \n",
    "    \n",
    "    \n",
    "    \n",
    "    \n",
    "    it+=1"
   ]
  },
  {
   "cell_type": "code",
   "execution_count": 9,
   "metadata": {
    "collapsed": false,
    "deletable": true,
    "editable": true
   },
   "outputs": [],
   "source": [
    "## rate calculation\n",
    "ratio=np.zeros(len(nspike))\n",
    "for x in enumerate(nspike):\n",
    "    #print(x)\n",
    "    if x[0] <= 10 :\n",
    "        y = np.sum(nspike[:5])/5\n",
    "        #print(y)\n",
    "    elif x[0] > 10 :\n",
    "        y = np.sum(nspike[x[0]:x[0]+500])/1000\n",
    "    ratio[x[0]]=y"
   ]
  },
  {
   "cell_type": "code",
   "execution_count": 10,
   "metadata": {
    "collapsed": false,
    "deletable": true,
    "editable": true
   },
   "outputs": [
    {
     "data": {
      "image/png": "[encoded data removed]",
      "text/plain": [
       "<matplotlib.figure.Figure at 0x7f6ea4ccee80>"
      ]
     },
     "metadata": {},
     "output_type": "display_data"
    }
   ],
   "source": [
    "## Membrane potential and Input trace\n",
    "fig = plt.figure(figsize=(15,10))\n",
    "\n",
    "ax1 = plt.subplot(311)\n",
    "ax1.set_ylim(0,2)\n",
    "ax1.spines['right'].set_visible(False)\n",
    "ax1.spines['top'].set_visible(False)\n",
    "ax1.set_ylabel('Input [A]',fontsize=15,fontweight='bold')\n",
    "plt.plot(time,Il,'b',linewidth=2)\n",
    "\n",
    "    # share x only\n",
    "ax2 = plt.subplot(312, sharex=ax1)\n",
    "ax2.set_ylabel('M.potential [V]',fontsize=15,fontweight='bold')\n",
    "ax2.set_xlabel('Time [ms]',fontsize=15,fontweight='bold')\n",
    "ax2.spines['right'].set_visible(False)\n",
    "ax2.spines['top'].set_visible(False)\n",
    "ax2.plot(time, Vm,'g',linewidth=2)\n",
    "ax2.plot((time[0], duration), (Vth, Vth), 'r',linestyle=':', dashes=(1, 5)) # put the treshold level\n",
    "plt.setp(ax1.get_xticklabels(), visible=False)\n",
    "\n",
    "# make these tick labels invisible\n",
    "plt.setp(ax1.get_xticklabels(), visible=False)\n",
    "\n",
    "#ax3 = plt.subplot(313, sharex=ax1)\n",
    "#ax3.set_ylim(2,5)\n",
    "#ax3.set_ylabel('Firing rate [Hz]',fontsize=15,fontweight='bold')\n",
    "#ax3.set_xlabel('Time [ms]',fontsize=15,fontweight='bold')\n",
    "#plt.plot(time, ratio,'r',linewidth=2)\n",
    "\n",
    "plt.autoscale(enable=True, axis='x', tight=True)\n",
    "plt.show()"
   ]
  }
 ],
 "metadata": {
  "kernelspec": {
   "display_name": "Python 3",
   "language": "python",
   "name": "python3"
  },
  "language_info": {
   "codemirror_mode": {
    "name": "ipython",
    "version": 3
   },
   "file_extension": ".py",
   "mimetype": "text/x-python",
   "name": "python",
   "nbconvert_exporter": "python",
   "pygments_lexer": "ipython3",
   "version": "3.5.2"
  }
 },
 "nbformat": 4,
 "nbformat_minor": 2
}
